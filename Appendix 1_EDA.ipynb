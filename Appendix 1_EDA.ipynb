{
 "cells": [
  {
   "cell_type": "code",
   "execution_count": 69,
   "id": "70515e37",
   "metadata": {},
   "outputs": [],
   "source": [
    "import pandas as pd\n",
    "import numpy as np\n",
    "import seaborn as sns\n",
    "import matplotlib.pyplot as plt"
   ]
  },
  {
   "cell_type": "code",
   "execution_count": 70,
   "id": "74427c66",
   "metadata": {},
   "outputs": [],
   "source": [
    "diabetes = pd.read_csv('diabetes_prediction_dataset.csv', delimiter = ',',encoding = 'utf-8', header = 0)"
   ]
  },
  {
   "cell_type": "code",
   "execution_count": 100,
   "id": "4997a4d9",
   "metadata": {},
   "outputs": [
    {
     "name": "stdout",
     "output_type": "stream",
     "text": [
      "[1 0]\n"
     ]
    }
   ],
   "source": [
    "unique_values = diabetes['gender'].unique()\n",
    "print(unique_values)"
   ]
  },
  {
   "cell_type": "code",
   "execution_count": 101,
   "id": "dfe35619",
   "metadata": {
    "scrolled": true
   },
   "outputs": [
    {
     "name": "stdout",
     "output_type": "stream",
     "text": [
      "1    58.562541\n",
      "0    41.437459\n",
      "Name: gender, dtype: float64\n"
     ]
    }
   ],
   "source": [
    "gender_value_counts = diabetes['gender'].value_counts(normalize=True) * 100\n",
    "print(gender_value_counts)\n",
    "# here we check if some gender groups are over represented / under represented\n"
   ]
  },
  {
   "cell_type": "code",
   "execution_count": 102,
   "id": "909e5e59",
   "metadata": {
    "scrolled": false
   },
   "outputs": [
    {
     "name": "stdout",
     "output_type": "stream",
     "text": [
      "gender\n",
      "0    0.097490\n",
      "1    0.076189\n",
      "Name: diabetes, dtype: float64\n"
     ]
    }
   ],
   "source": [
    "gender_diabetes_proportion = diabetes.groupby('gender')['diabetes'].mean()\n",
    "print(gender_diabetes_proportion)"
   ]
  },
  {
   "cell_type": "code",
   "execution_count": 106,
   "id": "a1590b9e",
   "metadata": {},
   "outputs": [
    {
     "name": "stdout",
     "output_type": "stream",
     "text": [
      "Female diabetes count: 4039.0\n",
      "Male diabetes count: 4461.0\n"
     ]
    }
   ],
   "source": [
    "# Calculate the proportion of diabetic patients for each gender\n",
    "gender_diabetes_proportion = diabetes.groupby('gender')['diabetes'].mean()\n",
    "\n",
    "# Count the number of patients for each gender\n",
    "gender_counts = diabetes['gender'].value_counts()\n",
    "\n",
    "# Calculate the count of diabetic patients for each gender\n",
    "female_diabetes_count = gender_diabetes_proportion.loc[0] * gender_counts.loc[0]\n",
    "male_diabetes_count = gender_diabetes_proportion.loc[1] * gender_counts.loc[1]\n",
    "\n",
    "\n",
    "print('Female diabetes count:', female_diabetes_count)\n",
    "print('Male diabetes count:', male_diabetes_count)"
   ]
  },
  {
   "cell_type": "code",
   "execution_count": 104,
   "id": "7361ff1d",
   "metadata": {},
   "outputs": [
    {
     "name": "stdout",
     "output_type": "stream",
     "text": [
      "Female diabetes count: 4461.0\n",
      "Male diabetes count: 4039.0\n"
     ]
    }
   ],
   "source": [
    "# Get the proportion of diabetic patients for each gender\n",
    "gender_diabetes_proportion = diabetes.groupby('gender')['diabetes'].mean()\n",
    "\n",
    "# Get the count of males and females in the dataset\n",
    "gender_counts = diabetes['gender'].value_counts()\n",
    "\n",
    "# Calculate the count of diabetic females and males\n",
    "female_diabetes_count = gender_diabetes_proportion.loc[1] * gender_counts.loc[1]\n",
    "male_diabetes_count = gender_diabetes_proportion.loc[0] * gender_counts.loc[0]\n",
    "\n",
    "print('Female diabetes count:', female_diabetes_count)\n",
    "print('Male diabetes count:', male_diabetes_count)"
   ]
  },
  {
   "cell_type": "code",
   "execution_count": 105,
   "id": "9acd308a",
   "metadata": {},
   "outputs": [],
   "source": [
    "diabetes['gender'] = diabetes['gender'].replace({'Male': 0, 'Female': 1})\n",
    "diabetes = diabetes[diabetes['gender'] != 'Other']"
   ]
  },
  {
   "cell_type": "code",
   "execution_count": 75,
   "id": "0cbf7a0b",
   "metadata": {
    "scrolled": false
   },
   "outputs": [
    {
     "name": "stdout",
     "output_type": "stream",
     "text": [
      "[1 0]\n"
     ]
    }
   ],
   "source": [
    "unique_values = diabetes['gender'].unique()\n",
    "print(unique_values)"
   ]
  },
  {
   "cell_type": "code",
   "execution_count": 76,
   "id": "fbb98dab",
   "metadata": {
    "scrolled": false
   },
   "outputs": [
    {
     "name": "stdout",
     "output_type": "stream",
     "text": [
      "1    58.562541\n",
      "0    41.437459\n",
      "Name: gender, dtype: float64\n"
     ]
    }
   ],
   "source": [
    "gender_value_counts = diabetes['gender'].value_counts(normalize=True) * 100\n",
    "print(gender_value_counts)\n",
    "# here we check if some gender groups are over represented / under represented\n",
    "\n",
    "\n",
    "\n"
   ]
  },
  {
   "cell_type": "code",
   "execution_count": 96,
   "id": "184422ec",
   "metadata": {},
   "outputs": [
    {
     "name": "stdout",
     "output_type": "stream",
     "text": [
      "Female diabetes count: 4461.0\n",
      "Male diabetes count: 4039.0\n"
     ]
    }
   ],
   "source": [
    "# Get the proportion of diabetic patients for each gender\n",
    "gender_diabetes_proportion = diabetes.groupby('gender')['diabetes'].mean()\n",
    "\n",
    "# Get the count of males and females in the dataset\n",
    "gender_counts = diabetes['gender'].value_counts()\n",
    "\n",
    "# Calculate the count of diabetic females and males\n",
    "female_diabetes_count = gender_diabetes_proportion.loc[1] * gender_counts.loc[1]\n",
    "male_diabetes_count = gender_diabetes_proportion.loc[0] * gender_counts.loc[0]\n",
    "\n",
    "print('Female diabetes count:', female_diabetes_count)\n",
    "print('Male diabetes count:', male_diabetes_count)\n",
    "\n",
    "\n",
    "\n"
   ]
  },
  {
   "cell_type": "code",
   "execution_count": 78,
   "id": "58c2b3ae",
   "metadata": {},
   "outputs": [
    {
     "name": "stdout",
     "output_type": "stream",
     "text": [
      "[ 0.08  0.16  0.24  0.32  0.4   0.48  0.56  0.64  0.72  0.8   0.88  1.\n",
      "  1.08  1.16  1.24  1.32  1.4   1.48  1.56  1.64  1.72  1.8   1.88  2.\n",
      "  3.    4.    5.    6.    7.    8.    9.   10.   11.   12.   13.   14.\n",
      " 15.   16.   17.   18.   19.   20.   21.   22.   23.   24.   25.   26.\n",
      " 27.   28.   29.   30.   31.   32.   33.   34.   35.   36.   37.   38.\n",
      " 39.   40.   41.   42.   43.   44.   45.   46.   47.   48.   49.   50.\n",
      " 51.   52.   53.   54.   55.   56.   57.   58.   59.   60.   61.   62.\n",
      " 63.   64.   65.   66.   67.   68.   69.   70.   71.   72.   73.   74.\n",
      " 75.   76.   77.   78.   79.   80.  ]\n"
     ]
    }
   ],
   "source": [
    "unique_values = diabetes['age'].unique()\n",
    "sorted_unique_values = np.sort(unique_values)\n",
    "print(sorted_unique_values)\n",
    "# here we see which age groups are represented in the dataset"
   ]
  },
  {
   "cell_type": "code",
   "execution_count": 79,
   "id": "e458bd22",
   "metadata": {},
   "outputs": [
    {
     "name": "stdout",
     "output_type": "stream",
     "text": [
      "80.00    5.622012\n",
      "51.00    1.619291\n",
      "47.00    1.572283\n",
      "48.00    1.568282\n",
      "49.00    1.541277\n",
      "           ...   \n",
      "0.48     0.083015\n",
      "1.00     0.083015\n",
      "0.40     0.066012\n",
      "0.16     0.059011\n",
      "0.08     0.036006\n",
      "Name: age, Length: 102, dtype: float64\n"
     ]
    }
   ],
   "source": [
    "age_value_counts = diabetes['age'].value_counts(normalize=True) * 100\n",
    "print(age_value_counts)\n",
    "# here we check if some age groups are over represented / under represented "
   ]
  },
  {
   "cell_type": "code",
   "execution_count": 80,
   "id": "c1b86063",
   "metadata": {},
   "outputs": [],
   "source": [
    "# Calculate the proportion of diabetic patients for each age (explain why we use mean and not value count)\n",
    "age_diabetes_proportion = diabetes.groupby('age')['diabetes'].mean()\n"
   ]
  },
  {
   "cell_type": "code",
   "execution_count": 81,
   "id": "07fa51e6",
   "metadata": {},
   "outputs": [
    {
     "data": {
      "image/png": "[encoded data removed]",
      "text/plain": [
       "<Figure size 1500x600 with 1 Axes>"
      ]
     },
     "metadata": {},
     "output_type": "display_data"
    }
   ],
   "source": [
    "# Create a bar plot\n",
    "plt.figure(figsize=(15, 6))\n",
    "sns.barplot(x=age_diabetes_proportion.index, y=age_diabetes_proportion.values)\n",
    "plt.xlabel('Age')\n",
    "plt.ylabel('Proportion of Diabetic Patients')\n",
    "plt.title('Proportion of Diabetic Patients by Age')\n",
    "plt.xticks(rotation=90)\n",
    "plt.show()"
   ]
  },
  {
   "cell_type": "code",
   "execution_count": 82,
   "id": "d7f159fa",
   "metadata": {},
   "outputs": [
    {
     "name": "stdout",
     "output_type": "stream",
     "text": [
      "[0 1]\n"
     ]
    }
   ],
   "source": [
    "unique_values = diabetes['diabetes'].unique()\n",
    "print(unique_values)"
   ]
  },
  {
   "cell_type": "code",
   "execution_count": 83,
   "id": "a5428800",
   "metadata": {},
   "outputs": [
    {
     "name": "stdout",
     "output_type": "stream",
     "text": [
      "0    91.49847\n",
      "1     8.50153\n",
      "Name: diabetes, dtype: float64\n"
     ]
    }
   ],
   "source": [
    "diabetes_value_counts = diabetes['diabetes'].value_counts(normalize=True) * 100\n",
    "print(diabetes_value_counts)\n",
    "# here we check if the dataset is over represented \n",
    "# or under represented by participants who have diabetes"
   ]
  },
  {
   "cell_type": "code",
   "execution_count": 84,
   "id": "3091ed5f",
   "metadata": {},
   "outputs": [
    {
     "data": {
      "image/png": "[encoded data removed]",
      "text/plain": [
       "<Figure size 640x480 with 1 Axes>"
      ]
     },
     "metadata": {},
     "output_type": "display_data"
    }
   ],
   "source": [
    "# Get value counts for diabetes column\n",
    "diabetes_counts = diabetes['diabetes'].value_counts()\n",
    "\n",
    "# Create bar plot\n",
    "plt.bar(diabetes_counts.index, diabetes_counts.values)\n",
    "\n",
    "# Add labels\n",
    "plt.title('Distribution of participants without / with diabetes')\n",
    "plt.xlabel('Without diabetes vs with diabetes ')\n",
    "plt.ylabel('Number of particpants')\n",
    "\n",
    "# Show plot\n",
    "plt.show()\n",
    "\n",
    "\n",
    "# here you can talk about bias in the dataset in terms of predictability"
   ]
  },
  {
   "cell_type": "code",
   "execution_count": null,
   "id": "d7311e04",
   "metadata": {},
   "outputs": [],
   "source": []
  },
  {
   "cell_type": "code",
   "execution_count": null,
   "id": "d9277e06",
   "metadata": {},
   "outputs": [],
   "source": []
  },
  {
   "cell_type": "code",
   "execution_count": null,
   "id": "98ca9cb2",
   "metadata": {},
   "outputs": [],
   "source": []
  },
  {
   "cell_type": "code",
   "execution_count": null,
   "id": "02f77963",
   "metadata": {},
   "outputs": [],
   "source": []
  },
  {
   "cell_type": "code",
   "execution_count": null,
   "id": "6d0ba9e5",
   "metadata": {},
   "outputs": [],
   "source": []
  },
  {
   "cell_type": "code",
   "execution_count": null,
   "id": "fe1f44e8",
   "metadata": {},
   "outputs": [],
   "source": []
  },
  {
   "cell_type": "code",
   "execution_count": null,
   "id": "5c2956a6",
   "metadata": {},
   "outputs": [],
   "source": []
  },
  {
   "cell_type": "code",
   "execution_count": null,
   "id": "ae8f3285",
   "metadata": {},
   "outputs": [],
   "source": []
  },
  {
   "cell_type": "code",
   "execution_count": null,
   "id": "9b32b28e",
   "metadata": {},
   "outputs": [],
   "source": []
  }
 ],
 "metadata": {
  "kernelspec": {
   "display_name": "Python 3 (ipykernel)",
   "language": "python",
   "name": "python3"
  },
  "language_info": {
   "codemirror_mode": {
    "name": "ipython",
    "version": 3
   },
   "file_extension": ".py",
   "mimetype": "text/x-python",
   "name": "python",
   "nbconvert_exporter": "python",
   "pygments_lexer": "ipython3",
   "version": "3.9.13"
  }
 },
 "nbformat": 4,
 "nbformat_minor": 5
}
